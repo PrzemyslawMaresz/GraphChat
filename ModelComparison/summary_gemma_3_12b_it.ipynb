{
 "cells": [
  {
   "cell_type": "code",
   "execution_count": 35,
   "id": "8024ce8f",
   "metadata": {},
   "outputs": [],
   "source": [
    "import pandas as pd"
   ]
  },
  {
   "cell_type": "code",
   "execution_count": 36,
   "id": "a9cd3bd2",
   "metadata": {},
   "outputs": [],
   "source": [
    "df_1 = pd.read_csv('gemma3_12b_results_bar.csv')\n",
    "df_2 = pd.read_csv('gemma3_12b_results_line.csv')\n",
    "df_3 = pd.read_csv('gemma3_12b_results_scatter.csv')"
   ]
  },
  {
   "cell_type": "code",
   "execution_count": 37,
   "id": "8b025971",
   "metadata": {},
   "outputs": [],
   "source": [
    "df = pd.concat([df_1, df_2, df_3], ignore_index=True)"
   ]
  },
  {
   "cell_type": "code",
   "execution_count": 38,
   "id": "ffcbbcde",
   "metadata": {},
   "outputs": [],
   "source": [
    "df[\"rel_error\"] = abs(df[\"y_pred\"] - df[\"y_true\"]) / df[\"y_true\"].abs()"
   ]
  },
  {
   "cell_type": "code",
   "execution_count": 39,
   "id": "3d141903",
   "metadata": {},
   "outputs": [],
   "source": [
    "summary = df.groupby(\"chart_type\").agg(\n",
    "    abs_error_avg=(\"abs_error\", \"mean\"),\n",
    "    abs_error_median=(\"abs_error\", \"median\"),\n",
    "    rel_error_avg=(\"rel_error\", \"mean\"),\n",
    "    accuracy_within_5=(\"abs_error\", lambda x: (x <= 5).mean()),\n",
    "    latency_avg=(\"inference_time\", \"mean\"),\n",
    ").reset_index()\n",
    "\n",
    "global_summary = pd.DataFrame({\n",
    "    \"chart_type\": [\"ALL\"],\n",
    "    \"abs_error_avg\": [df[\"abs_error\"].mean()],\n",
    "    \"abs_error_median\": [df[\"abs_error\"].median()],\n",
    "    \"rel_error_avg\": [df[\"rel_error\"].mean()],\n",
    "    \"accuracy_within_5\": [(df[\"abs_error\"] <= 5).mean()],\n",
    "    \"latency_avg\": [df[\"inference_time\"].mean()],\n",
    "})"
   ]
  },
  {
   "cell_type": "code",
   "execution_count": 40,
   "id": "a000659e",
   "metadata": {},
   "outputs": [],
   "source": [
    "summary_df = pd.concat([summary, global_summary], ignore_index=True)\n",
    "\n",
    "summary_df = summary_df.round(3)"
   ]
  },
  {
   "cell_type": "code",
   "execution_count": 41,
   "id": "070e85dd",
   "metadata": {},
   "outputs": [
    {
     "data": {
      "text/html": [
       "<div>\n",
       "<style scoped>\n",
       "    .dataframe tbody tr th:only-of-type {\n",
       "        vertical-align: middle;\n",
       "    }\n",
       "\n",
       "    .dataframe tbody tr th {\n",
       "        vertical-align: top;\n",
       "    }\n",
       "\n",
       "    .dataframe thead th {\n",
       "        text-align: right;\n",
       "    }\n",
       "</style>\n",
       "<table border=\"1\" class=\"dataframe\">\n",
       "  <thead>\n",
       "    <tr style=\"text-align: right;\">\n",
       "      <th></th>\n",
       "      <th>chart_type</th>\n",
       "      <th>abs_error_avg</th>\n",
       "      <th>abs_error_median</th>\n",
       "      <th>rel_error_avg</th>\n",
       "      <th>accuracy_within_5</th>\n",
       "      <th>latency_avg</th>\n",
       "    </tr>\n",
       "  </thead>\n",
       "  <tbody>\n",
       "    <tr>\n",
       "      <th>0</th>\n",
       "      <td>bar</td>\n",
       "      <td>17.151</td>\n",
       "      <td>13.930</td>\n",
       "      <td>0.296</td>\n",
       "      <td>0.286</td>\n",
       "      <td>66.268</td>\n",
       "    </tr>\n",
       "    <tr>\n",
       "      <th>1</th>\n",
       "      <td>line</td>\n",
       "      <td>31.949</td>\n",
       "      <td>7.580</td>\n",
       "      <td>0.167</td>\n",
       "      <td>0.409</td>\n",
       "      <td>80.970</td>\n",
       "    </tr>\n",
       "    <tr>\n",
       "      <th>2</th>\n",
       "      <td>scatter</td>\n",
       "      <td>4.502</td>\n",
       "      <td>2.130</td>\n",
       "      <td>0.065</td>\n",
       "      <td>0.741</td>\n",
       "      <td>91.171</td>\n",
       "    </tr>\n",
       "    <tr>\n",
       "      <th>3</th>\n",
       "      <td>ALL</td>\n",
       "      <td>16.866</td>\n",
       "      <td>3.425</td>\n",
       "      <td>0.134</td>\n",
       "      <td>0.554</td>\n",
       "      <td>84.050</td>\n",
       "    </tr>\n",
       "  </tbody>\n",
       "</table>\n",
       "</div>"
      ],
      "text/plain": [
       "  chart_type  abs_error_avg  abs_error_median  rel_error_avg  \\\n",
       "0        bar         17.151            13.930          0.296   \n",
       "1       line         31.949             7.580          0.167   \n",
       "2    scatter          4.502             2.130          0.065   \n",
       "3        ALL         16.866             3.425          0.134   \n",
       "\n",
       "   accuracy_within_5  latency_avg  \n",
       "0              0.286       66.268  \n",
       "1              0.409       80.970  \n",
       "2              0.741       91.171  \n",
       "3              0.554       84.050  "
      ]
     },
     "execution_count": 41,
     "metadata": {},
     "output_type": "execute_result"
    }
   ],
   "source": [
    "summary_df"
   ]
  }
 ],
 "metadata": {
  "kernelspec": {
   "display_name": "extraction_graphs",
   "language": "python",
   "name": "python3"
  },
  "language_info": {
   "codemirror_mode": {
    "name": "ipython",
    "version": 3
   },
   "file_extension": ".py",
   "mimetype": "text/x-python",
   "name": "python",
   "nbconvert_exporter": "python",
   "pygments_lexer": "ipython3",
   "version": "3.13.5"
  }
 },
 "nbformat": 4,
 "nbformat_minor": 5
}
