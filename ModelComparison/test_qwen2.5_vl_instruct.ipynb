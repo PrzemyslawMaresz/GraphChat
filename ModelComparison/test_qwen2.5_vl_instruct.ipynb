{
 "cells": [
  {
   "cell_type": "code",
   "execution_count": 1,
   "id": "c523f445",
   "metadata": {},
   "outputs": [
    {
     "name": "stderr",
     "output_type": "stream",
     "text": [
      "c:\\Users\\tomasz.makowski.2\\AppData\\Local\\anaconda3\\envs\\extraction_graphs\\Lib\\site-packages\\tqdm\\auto.py:21: TqdmWarning: IProgress not found. Please update jupyter and ipywidgets. See https://ipywidgets.readthedocs.io/en/stable/user_install.html\n",
      "  from .autonotebook import tqdm as notebook_tqdm\n"
     ]
    }
   ],
   "source": [
    "import json\n",
    "import os\n",
    "import pandas as pd\n",
    "from PIL import Image\n",
    "from tqdm import tqdm\n",
    "import torch\n",
    "import random\n",
    "import time\n",
    "\n",
    "from transformers import Qwen2_5_VLForConditionalGeneration, AutoProcessor\n",
    "from qwen_vl_utils import process_vision_info\n"
   ]
  },
  {
   "cell_type": "code",
   "execution_count": 2,
   "id": "fb5f2efe",
   "metadata": {},
   "outputs": [
    {
     "name": "stderr",
     "output_type": "stream",
     "text": [
      "Loading checkpoint shards: 100%|██████████| 2/2 [00:00<00:00, 17.02it/s]\n",
      "c:\\Users\\tomasz.makowski.2\\AppData\\Local\\anaconda3\\envs\\extraction_graphs\\Lib\\site-packages\\huggingface_hub\\file_download.py:143: UserWarning: `huggingface_hub` cache-system uses symlinks by default to efficiently store duplicated files but your machine does not support them in C:\\Users\\tomasz.makowski.2\\.cache\\huggingface\\hub\\models--Qwen--Qwen2.5-VL-3B-Instruct. Caching files will still work but in a degraded version that might require more space on your disk. This warning can be disabled by setting the `HF_HUB_DISABLE_SYMLINKS_WARNING` environment variable. For more details, see https://huggingface.co/docs/huggingface_hub/how-to-cache#limitations.\n",
      "To support symlinks on Windows, you either need to activate Developer Mode or to run Python as an administrator. In order to activate developer mode, see this article: https://docs.microsoft.com/en-us/windows/apps/get-started/enable-your-device-for-development\n",
      "  warnings.warn(message)\n",
      "Using a slow image processor as `use_fast` is unset and a slow processor was saved with this model. `use_fast=True` will be the default behavior in v4.52, even if the model was saved with a slow processor. This will result in minor differences in outputs. You'll still be able to use a slow processor with `use_fast=False`.\n",
      "You have video processor config saved in `preprocessor.json` file which is deprecated. Video processor configs should be saved in their own `video_preprocessor.json` file. You can rename the file or load and save the processor back which renames it automatically. Loading from `preprocessor.json` will be removed in v5.0.\n"
     ]
    }
   ],
   "source": [
    "MODEL_ID = \"Qwen/Qwen2.5-VL-3B-Instruct\"\n",
    "\n",
    "model = Qwen2_5_VLForConditionalGeneration.from_pretrained(\n",
    "    MODEL_ID,\n",
    "    torch_dtype=torch.bfloat16,\n",
    "    device_map=\"auto\",\n",
    ")\n",
    "\n",
    "processor = AutoProcessor.from_pretrained(MODEL_ID)\n"
   ]
  },
  {
   "cell_type": "code",
   "execution_count": 3,
   "id": "2bb032db",
   "metadata": {},
   "outputs": [],
   "source": [
    "SYSTEM_PROMPT = \"\"\"\n",
    "You are a smart assistant specialized in reading numerical values from scientific charts.\n",
    "\n",
    "Each chart may contain bars, lines, or scattered points. When answering, always follow these steps:\n",
    "\n",
    "1. First, analyze the X and Y axes — understand the scale, numeric ranges, and tick intervals.\n",
    "2. Then, locate the chart element corresponding to the X value requested by the user.\n",
    "3. Estimate the precise Y value by visually aligning the element with the Y-axis.\n",
    "4. Return the value as a **single float number only**, without any explanation, unit, or extra wording.\n",
    "\n",
    "Your answer should look like this: `42.7`\n",
    "Never reply with full sentences or approximations like \"around 40\".\n",
    "\"\"\"\n",
    "\n",
    "def query_model(image: Image.Image, x_val: int) -> str:\n",
    "    prompt = f\"What is the Y value at X={x_val} in this chart?\"\n",
    "    messages = [\n",
    "        {\n",
    "            \"role\": \"user\",\n",
    "            \"content\": [\n",
    "                {\"type\": \"image\", \"image\": image},\n",
    "                {\"type\": \"text\", \"text\": prompt}\n",
    "            ],\n",
    "        }\n",
    "    ]\n",
    "\n",
    "    text = processor.apply_chat_template(\n",
    "        messages, tokenize=False, add_generation_prompt=True, system=SYSTEM_PROMPT.strip()\n",
    "    )\n",
    "    image_inputs, video_inputs = process_vision_info(messages)\n",
    "    inputs = processor(\n",
    "        text=[text],\n",
    "        images=image_inputs,\n",
    "        videos=video_inputs,\n",
    "        padding=True,\n",
    "        return_tensors=\"pt\",\n",
    "    ).to(model.device)\n",
    "\n",
    "    with torch.inference_mode():\n",
    "        outputs = model.generate(**inputs, max_new_tokens=64)\n",
    "\n",
    "    generated_ids_trimmed = outputs[:, inputs.input_ids.shape[-1]:]\n",
    "    decoded = processor.batch_decode(\n",
    "        generated_ids_trimmed,\n",
    "        skip_special_tokens=True,\n",
    "        clean_up_tokenization_spaces=False,\n",
    "    )\n",
    "    return decoded[0].strip()\n"
   ]
  },
  {
   "cell_type": "code",
   "execution_count": null,
   "id": "c30eeff9",
   "metadata": {},
   "outputs": [],
   "source": [
    "DATASETS = {\n",
    "    \"bar\": {\n",
    "        \"jsonl\": \"benchmark_images/bar_charts/bar_metadata.jsonl\",\n",
    "        \"img_dir\": \"benchmark_images/bar_charts\",\n",
    "        \"output_csv\": \"qwen2_5_results_bar.csv\"\n",
    "    },\n",
    "    \"line\": {\n",
    "        \"jsonl\": \"benchmark_images/line_poly_charts/line_poly_metadata.jsonl\",\n",
    "        \"img_dir\": \"benchmark_images/line_poly_charts\",\n",
    "        \"output_csv\": \"qwen2_5_results_line.csv\"\n",
    "    },\n",
    "    \"scatter\": {\n",
    "        \"jsonl\": \"benchmark_images/scatter_charts/scatter_metadata.jsonl\",\n",
    "        \"img_dir\": \"benchmark_images/scatter_charts\",\n",
    "        \"output_csv\": \"qwen2_5_results_scatter.csv\"\n",
    "    }\n",
    "}\n"
   ]
  },
  {
   "cell_type": "code",
   "execution_count": 5,
   "id": "c7d33e57",
   "metadata": {},
   "outputs": [
    {
     "name": "stdout",
     "output_type": "stream",
     "text": [
      "📁 Processing bar charts...\n"
     ]
    },
    {
     "name": "stderr",
     "output_type": "stream",
     "text": [
      "🖼️ bar: 100%|██████████| 20/20 [17:43<00:00, 53.17s/it]\n"
     ]
    },
    {
     "name": "stdout",
     "output_type": "stream",
     "text": [
      "✅ Saved bar results to qwen2_5_results_bar.csv\n",
      "📁 Processing line charts...\n"
     ]
    },
    {
     "name": "stderr",
     "output_type": "stream",
     "text": [
      "🖼️ line: 100%|██████████| 50/50 [31:21<00:00, 37.63s/it] \n"
     ]
    },
    {
     "name": "stdout",
     "output_type": "stream",
     "text": [
      "✅ Saved line results to qwen2_5_results_line.csv\n",
      "📁 Processing scatter charts...\n"
     ]
    },
    {
     "name": "stderr",
     "output_type": "stream",
     "text": [
      "🖼️ scatter: 100%|██████████| 50/50 [34:00<00:00, 40.82s/it] "
     ]
    },
    {
     "name": "stdout",
     "output_type": "stream",
     "text": [
      "✅ Saved scatter results to qwen2_5_results_scatter.csv\n"
     ]
    },
    {
     "name": "stderr",
     "output_type": "stream",
     "text": [
      "\n"
     ]
    }
   ],
   "source": [
    "for chart_type, cfg in DATASETS.items():\n",
    "    print(f\"📁 Processing {chart_type} charts...\")\n",
    "    results = []\n",
    "\n",
    "    with open(cfg[\"jsonl\"], \"r\", encoding=\"utf-8\") as f:\n",
    "        lines = f.readlines()\n",
    "\n",
    "    for line in tqdm(lines, desc=f\"🖼️ {chart_type}\"):\n",
    "        if random.random() > 0.5:\n",
    "            continue\n",
    "        entry = json.loads(line)\n",
    "        image_id = entry[\"id\"]\n",
    "        image_path = os.path.join(cfg[\"img_dir\"], os.path.basename(entry[\"image\"]).replace(\"\\\\\", \"/\"))\n",
    "        points = random.sample(entry[\"points\"], min(1, len(entry[\"points\"])))\n",
    "\n",
    "        try:\n",
    "            image = Image.open(image_path).convert(\"RGB\")\n",
    "        except Exception as e:\n",
    "            print(f\"❌ Cannot open image {image_id}: {e}\")\n",
    "            continue\n",
    "\n",
    "        for point in points:\n",
    "            x_val = point[\"x\"]\n",
    "            y_true = point[\"y\"]\n",
    "            start_time = time.perf_counter()\n",
    "            y_pred_raw = query_model(image, x_val)\n",
    "            elapsed_time = time.perf_counter() - start_time\n",
    "\n",
    "            try:\n",
    "                y_pred = float(y_pred_raw.split()[0].replace(\",\", \".\"))\n",
    "            except Exception:\n",
    "                y_pred = None\n",
    "\n",
    "            abs_error = abs(y_pred - y_true) if y_pred is not None else None\n",
    "            results.append({\n",
    "                \"chart_type\": chart_type,\n",
    "                \"image_id\": image_id,\n",
    "                \"x\": x_val,\n",
    "                \"y_true\": y_true,\n",
    "                \"y_pred\": y_pred,\n",
    "                \"abs_error\": abs_error,\n",
    "                \"raw_output\": y_pred_raw,\n",
    "                \"inference_time\": elapsed_time\n",
    "            })\n",
    "\n",
    "    df = pd.DataFrame(results)\n",
    "    df.to_csv(cfg[\"output_csv\"], index=False)\n",
    "    print(f\"✅ Saved {chart_type} results to {cfg['output_csv']}\")\n"
   ]
  }
 ],
 "metadata": {
  "kernelspec": {
   "display_name": "extraction_graphs",
   "language": "python",
   "name": "python3"
  },
  "language_info": {
   "codemirror_mode": {
    "name": "ipython",
    "version": 3
   },
   "file_extension": ".py",
   "mimetype": "text/x-python",
   "name": "python",
   "nbconvert_exporter": "python",
   "pygments_lexer": "ipython3",
   "version": "3.13.5"
  }
 },
 "nbformat": 4,
 "nbformat_minor": 5
}
