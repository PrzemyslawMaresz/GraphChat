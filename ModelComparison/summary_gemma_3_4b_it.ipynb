{
 "cells": [
  {
   "cell_type": "code",
   "execution_count": 27,
   "id": "8024ce8f",
   "metadata": {},
   "outputs": [],
   "source": [
    "import pandas as pd"
   ]
  },
  {
   "cell_type": "code",
   "execution_count": 28,
   "id": "a9cd3bd2",
   "metadata": {},
   "outputs": [],
   "source": [
    "df_1 = pd.read_csv('gemma3_4b_results_bar.csv')\n",
    "df_2 = pd.read_csv('gemma3_4b_results_line.csv')\n",
    "df_3 = pd.read_csv('gemma3_4b_results_scatter.csv')"
   ]
  },
  {
   "cell_type": "code",
   "execution_count": 29,
   "id": "8b025971",
   "metadata": {},
   "outputs": [],
   "source": [
    "df = pd.concat([df_1, df_2, df_3], ignore_index=True)"
   ]
  },
  {
   "cell_type": "code",
   "execution_count": 30,
   "id": "ffcbbcde",
   "metadata": {},
   "outputs": [],
   "source": [
    "df[\"rel_error\"] = abs(df[\"y_pred\"] - df[\"y_true\"]) / df[\"y_true\"].abs()"
   ]
  },
  {
   "cell_type": "code",
   "execution_count": 31,
   "id": "3d141903",
   "metadata": {},
   "outputs": [],
   "source": [
    "summary = df.groupby(\"chart_type\").agg(\n",
    "    abs_error_avg=(\"abs_error\", \"mean\"),\n",
    "    abs_error_median=(\"abs_error\", \"median\"),\n",
    "    rel_error_avg=(\"rel_error\", \"mean\"),\n",
    "    accuracy_within_5=(\"abs_error\", lambda x: (x <= 5).mean()),\n",
    "    latency_avg=(\"inference_time\", \"mean\"),\n",
    ").reset_index()\n",
    "\n",
    "global_summary = pd.DataFrame({\n",
    "    \"chart_type\": [\"ALL\"],\n",
    "    \"abs_error_avg\": [df[\"abs_error\"].mean()],\n",
    "    \"abs_error_median\": [df[\"abs_error\"].median()],\n",
    "    \"rel_error_avg\": [df[\"rel_error\"].mean()],\n",
    "    \"accuracy_within_5\": [(df[\"abs_error\"] <= 5).mean()],\n",
    "    \"latency_avg\": [df[\"inference_time\"].mean()],\n",
    "})"
   ]
  },
  {
   "cell_type": "code",
   "execution_count": 32,
   "id": "a000659e",
   "metadata": {},
   "outputs": [],
   "source": [
    "summary_df = pd.concat([summary, global_summary], ignore_index=True)\n",
    "\n",
    "summary_df = summary_df.round(3)"
   ]
  },
  {
   "cell_type": "code",
   "execution_count": 33,
   "id": "070e85dd",
   "metadata": {},
   "outputs": [
    {
     "data": {
      "text/html": [
       "<div>\n",
       "<style scoped>\n",
       "    .dataframe tbody tr th:only-of-type {\n",
       "        vertical-align: middle;\n",
       "    }\n",
       "\n",
       "    .dataframe tbody tr th {\n",
       "        vertical-align: top;\n",
       "    }\n",
       "\n",
       "    .dataframe thead th {\n",
       "        text-align: right;\n",
       "    }\n",
       "</style>\n",
       "<table border=\"1\" class=\"dataframe\">\n",
       "  <thead>\n",
       "    <tr style=\"text-align: right;\">\n",
       "      <th></th>\n",
       "      <th>chart_type</th>\n",
       "      <th>abs_error_avg</th>\n",
       "      <th>abs_error_median</th>\n",
       "      <th>rel_error_avg</th>\n",
       "      <th>accuracy_within_5</th>\n",
       "      <th>latency_avg</th>\n",
       "    </tr>\n",
       "  </thead>\n",
       "  <tbody>\n",
       "    <tr>\n",
       "      <th>0</th>\n",
       "      <td>bar</td>\n",
       "      <td>11.578</td>\n",
       "      <td>10.710</td>\n",
       "      <td>0.189</td>\n",
       "      <td>0.091</td>\n",
       "      <td>42.319</td>\n",
       "    </tr>\n",
       "    <tr>\n",
       "      <th>1</th>\n",
       "      <td>line</td>\n",
       "      <td>322.642</td>\n",
       "      <td>12.500</td>\n",
       "      <td>1.288</td>\n",
       "      <td>0.348</td>\n",
       "      <td>42.667</td>\n",
       "    </tr>\n",
       "    <tr>\n",
       "      <th>2</th>\n",
       "      <td>scatter</td>\n",
       "      <td>7.272</td>\n",
       "      <td>4.360</td>\n",
       "      <td>0.130</td>\n",
       "      <td>0.538</td>\n",
       "      <td>46.860</td>\n",
       "    </tr>\n",
       "    <tr>\n",
       "      <th>3</th>\n",
       "      <td>ALL</td>\n",
       "      <td>128.953</td>\n",
       "      <td>8.275</td>\n",
       "      <td>0.585</td>\n",
       "      <td>0.383</td>\n",
       "      <td>44.420</td>\n",
       "    </tr>\n",
       "  </tbody>\n",
       "</table>\n",
       "</div>"
      ],
      "text/plain": [
       "  chart_type  abs_error_avg  abs_error_median  rel_error_avg  \\\n",
       "0        bar         11.578            10.710          0.189   \n",
       "1       line        322.642            12.500          1.288   \n",
       "2    scatter          7.272             4.360          0.130   \n",
       "3        ALL        128.953             8.275          0.585   \n",
       "\n",
       "   accuracy_within_5  latency_avg  \n",
       "0              0.091       42.319  \n",
       "1              0.348       42.667  \n",
       "2              0.538       46.860  \n",
       "3              0.383       44.420  "
      ]
     },
     "execution_count": 33,
     "metadata": {},
     "output_type": "execute_result"
    }
   ],
   "source": [
    "summary_df"
   ]
  }
 ],
 "metadata": {
  "kernelspec": {
   "display_name": "extraction_graphs",
   "language": "python",
   "name": "python3"
  },
  "language_info": {
   "codemirror_mode": {
    "name": "ipython",
    "version": 3
   },
   "file_extension": ".py",
   "mimetype": "text/x-python",
   "name": "python",
   "nbconvert_exporter": "python",
   "pygments_lexer": "ipython3",
   "version": "3.13.5"
  }
 },
 "nbformat": 4,
 "nbformat_minor": 5
}
