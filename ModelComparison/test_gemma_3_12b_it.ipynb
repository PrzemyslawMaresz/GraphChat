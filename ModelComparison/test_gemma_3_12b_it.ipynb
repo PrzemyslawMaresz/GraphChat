{
 "cells": [
  {
   "cell_type": "code",
   "execution_count": 1,
   "id": "c523f445",
   "metadata": {},
   "outputs": [
    {
     "name": "stderr",
     "output_type": "stream",
     "text": [
      "c:\\Users\\tomasz.makowski.2\\AppData\\Local\\anaconda3\\envs\\extraction_graphs\\Lib\\site-packages\\tqdm\\auto.py:21: TqdmWarning: IProgress not found. Please update jupyter and ipywidgets. See https://ipywidgets.readthedocs.io/en/stable/user_install.html\n",
      "  from .autonotebook import tqdm as notebook_tqdm\n"
     ]
    }
   ],
   "source": [
    "import json\n",
    "import os\n",
    "import pandas as pd\n",
    "from PIL import Image\n",
    "from tqdm import tqdm\n",
    "from transformers import AutoProcessor, Gemma3ForConditionalGeneration\n",
    "import torch\n",
    "import random\n",
    "import time"
   ]
  },
  {
   "cell_type": "code",
   "execution_count": 2,
   "id": "73220dac",
   "metadata": {},
   "outputs": [],
   "source": [
    "# === CONFIG ===\n",
    "MODEL_ID = \"google/gemma-3-12b-it\"\n",
    "DATASETS = {\n",
    "    \"bar\": {\n",
    "        \"jsonl\": \"benchmark_images/bar_charts/bar_metadata.jsonl\",\n",
    "        \"img_dir\": \"benchmark_images/bar_charts\",\n",
    "        \"output_csv\": \"gemma3_12b_results_bar.csv\"\n",
    "    },\n",
    "    \"line\": {\n",
    "        \"jsonl\": \"benchmark_images/line_poly_charts/line_poly_metadata.jsonl\",\n",
    "        \"img_dir\": \"benchmark_images/line_poly_charts\",\n",
    "        \"output_csv\": \"gemma3_12b_results_line.csv\"\n",
    "    },\n",
    "    \"scatter\": {\n",
    "        \"jsonl\": \"benchmark_images/scatter_charts/scatter_metadata.jsonl\",\n",
    "        \"img_dir\": \"benchmark_images/scatter_charts\",\n",
    "        \"output_csv\": \"gemma3_12b_results_scatter.csv\"\n",
    "    }\n",
    "}"
   ]
  },
  {
   "cell_type": "code",
   "execution_count": 3,
   "id": "f80245cf",
   "metadata": {},
   "outputs": [
    {
     "name": "stdout",
     "output_type": "stream",
     "text": [
      "🔧 Loading model and processor...\n"
     ]
    },
    {
     "name": "stderr",
     "output_type": "stream",
     "text": [
      "Loading checkpoint shards: 100%|██████████| 5/5 [00:39<00:00,  7.99s/it]\n",
      "Some parameters are on the meta device because they were offloaded to the cpu and disk.\n",
      "Using a slow image processor as `use_fast` is unset and a slow processor was saved with this model. `use_fast=True` will be the default behavior in v4.52, even if the model was saved with a slow processor. This will result in minor differences in outputs. You'll still be able to use a slow processor with `use_fast=False`.\n"
     ]
    }
   ],
   "source": [
    "# === LOAD MODEL ===\n",
    "print(\"🔧 Loading model and processor...\")\n",
    "model = Gemma3ForConditionalGeneration.from_pretrained(MODEL_ID, device_map=\"auto\").eval()\n",
    "processor = AutoProcessor.from_pretrained(MODEL_ID)"
   ]
  },
  {
   "cell_type": "code",
   "execution_count": 4,
   "id": "6f204304",
   "metadata": {},
   "outputs": [],
   "source": [
    "system_prompt = \"\"\"\n",
    "You are an intelligent assistant that helps extract precise numeric values from scientific charts. \n",
    "Each chart may include bar plots, line graphs, or scatter points. To answer accurately:\n",
    "\n",
    "1. First, analyze the chart axes — determine the visible x and y ranges, including tick values and scales (linear/logarithmic).\n",
    "2. Then, identify the specific visual element referenced in the user's question — such as a bar, point, or curve corresponding to a particular x-value.\n",
    "3. Carefully estimate the corresponding y-value by using the position of the element relative to the axis scale.\n",
    "4. Always return a single numeric value (float) as your answer, without explanation, unit, or additional text.\n",
    "\"\"\"\n",
    "\n",
    "# === PREDICTION FUNCTION ===\n",
    "def query_model(image: Image.Image, x_val: int) -> str:\n",
    "    prompt = f\"What is the Y value at X={x_val} in this chart?\"\n",
    "    messages = [\n",
    "        {\"role\": \"system\", \"content\": [{\"type\": \"text\", \"text\": system_prompt}]},\n",
    "        {\"role\": \"user\", \"content\": [\n",
    "            {\"type\": \"image\", \"image\": image},\n",
    "            {\"type\": \"text\", \"text\": prompt}\n",
    "        ]}\n",
    "    ]\n",
    "    inputs = processor.apply_chat_template(\n",
    "        messages, add_generation_prompt=True, tokenize=True,\n",
    "        return_dict=True, return_tensors=\"pt\"\n",
    "    ).to(model.device, dtype=torch.bfloat16)\n",
    "\n",
    "    input_len = inputs[\"input_ids\"].shape[-1]\n",
    "    with torch.inference_mode():\n",
    "        output = model.generate(**inputs, max_new_tokens=100, do_sample=False)\n",
    "    decoded = processor.decode(output[0][input_len:], skip_special_tokens=True)\n",
    "    return decoded.strip()"
   ]
  },
  {
   "cell_type": "code",
   "execution_count": 5,
   "id": "24bc1d0c",
   "metadata": {},
   "outputs": [
    {
     "name": "stdout",
     "output_type": "stream",
     "text": [
      "📁 Processing bar charts...\n"
     ]
    },
    {
     "name": "stderr",
     "output_type": "stream",
     "text": [
      "🖼️ bar:   0%|          | 0/20 [00:00<?, ?it/s]The following generation flags are not valid and may be ignored: ['top_p', 'top_k']. Set `TRANSFORMERS_VERBOSITY=info` for more details.\n"
     ]
    },
    {
     "name": "stdout",
     "output_type": "stream",
     "text": [
      "🔍 Processing image 4b7da27a-c42a-4ee8-96d7-1c7ed52024c8...\n"
     ]
    },
    {
     "name": "stderr",
     "output_type": "stream",
     "text": [
      "🖼️ bar:   5%|▌         | 1/20 [01:31<28:52, 91.18s/it]The following generation flags are not valid and may be ignored: ['top_p', 'top_k']. Set `TRANSFORMERS_VERBOSITY=info` for more details.\n"
     ]
    },
    {
     "name": "stdout",
     "output_type": "stream",
     "text": [
      "🔍 Processing image d98bf745-daf2-4aba-81ea-4139bd84e02d...\n"
     ]
    },
    {
     "name": "stderr",
     "output_type": "stream",
     "text": [
      "🖼️ bar:  20%|██        | 4/20 [02:34<09:09, 34.34s/it]The following generation flags are not valid and may be ignored: ['top_p', 'top_k']. Set `TRANSFORMERS_VERBOSITY=info` for more details.\n"
     ]
    },
    {
     "name": "stdout",
     "output_type": "stream",
     "text": [
      "🔍 Processing image ab66dde9-8626-41ae-b65c-5815f9785fd7...\n"
     ]
    },
    {
     "name": "stderr",
     "output_type": "stream",
     "text": [
      "🖼️ bar:  25%|██▌       | 5/20 [03:33<10:19, 41.27s/it]The following generation flags are not valid and may be ignored: ['top_p', 'top_k']. Set `TRANSFORMERS_VERBOSITY=info` for more details.\n"
     ]
    },
    {
     "name": "stdout",
     "output_type": "stream",
     "text": [
      "🔍 Processing image 286f8a36-3844-41a2-823e-5f1000b82595...\n"
     ]
    },
    {
     "name": "stderr",
     "output_type": "stream",
     "text": [
      "🖼️ bar:  50%|█████     | 10/20 [04:35<03:40, 22.01s/it]The following generation flags are not valid and may be ignored: ['top_p', 'top_k']. Set `TRANSFORMERS_VERBOSITY=info` for more details.\n"
     ]
    },
    {
     "name": "stdout",
     "output_type": "stream",
     "text": [
      "🔍 Processing image 0b2ce439-94e6-4c4f-b6b8-c1dbc4e00283...\n"
     ]
    },
    {
     "name": "stderr",
     "output_type": "stream",
     "text": [
      "🖼️ bar:  70%|███████   | 14/20 [05:39<01:56, 19.40s/it]The following generation flags are not valid and may be ignored: ['top_p', 'top_k']. Set `TRANSFORMERS_VERBOSITY=info` for more details.\n"
     ]
    },
    {
     "name": "stdout",
     "output_type": "stream",
     "text": [
      "🔍 Processing image 4f87a721-f6e5-4712-8691-6562227eac34...\n"
     ]
    },
    {
     "name": "stderr",
     "output_type": "stream",
     "text": [
      "🖼️ bar:  80%|████████  | 16/20 [06:40<01:28, 22.09s/it]The following generation flags are not valid and may be ignored: ['top_p', 'top_k']. Set `TRANSFORMERS_VERBOSITY=info` for more details.\n"
     ]
    },
    {
     "name": "stdout",
     "output_type": "stream",
     "text": [
      "🔍 Processing image 3a9ef51d-293d-478b-8866-3ada0b7b7ec1...\n"
     ]
    },
    {
     "name": "stderr",
     "output_type": "stream",
     "text": [
      "🖼️ bar: 100%|██████████| 20/20 [07:43<00:00, 23.20s/it]\n"
     ]
    },
    {
     "name": "stdout",
     "output_type": "stream",
     "text": [
      "✅ Saved bar results to gemma3_12b_results_bar.csv\n",
      "📁 Processing line charts...\n"
     ]
    },
    {
     "name": "stderr",
     "output_type": "stream",
     "text": [
      "🖼️ line:   0%|          | 0/50 [00:00<?, ?it/s]The following generation flags are not valid and may be ignored: ['top_p', 'top_k']. Set `TRANSFORMERS_VERBOSITY=info` for more details.\n"
     ]
    },
    {
     "name": "stdout",
     "output_type": "stream",
     "text": [
      "🔍 Processing image 21b2eff1-d2a4-4163-ac29-839327bcde89...\n"
     ]
    },
    {
     "name": "stderr",
     "output_type": "stream",
     "text": [
      "🖼️ line:   2%|▏         | 1/50 [01:10<57:38, 70.57s/it]The following generation flags are not valid and may be ignored: ['top_p', 'top_k']. Set `TRANSFORMERS_VERBOSITY=info` for more details.\n"
     ]
    },
    {
     "name": "stdout",
     "output_type": "stream",
     "text": [
      "🔍 Processing image ad899faa-e298-4b2d-beda-39797af0694d...\n"
     ]
    },
    {
     "name": "stderr",
     "output_type": "stream",
     "text": [
      "🖼️ line:   4%|▍         | 2/50 [02:16<54:04, 67.59s/it]The following generation flags are not valid and may be ignored: ['top_p', 'top_k']. Set `TRANSFORMERS_VERBOSITY=info` for more details.\n"
     ]
    },
    {
     "name": "stdout",
     "output_type": "stream",
     "text": [
      "🔍 Processing image d8f7b67b-00ff-4e1e-93f4-e4d7fcba37a8...\n"
     ]
    },
    {
     "name": "stderr",
     "output_type": "stream",
     "text": [
      "🖼️ line:   6%|▌         | 3/50 [03:19<51:32, 65.79s/it]The following generation flags are not valid and may be ignored: ['top_p', 'top_k']. Set `TRANSFORMERS_VERBOSITY=info` for more details.\n"
     ]
    },
    {
     "name": "stdout",
     "output_type": "stream",
     "text": [
      "🔍 Processing image a08d3a7d-0381-4351-9944-9735a5eedacd...\n"
     ]
    },
    {
     "name": "stderr",
     "output_type": "stream",
     "text": [
      "🖼️ line:   8%|▊         | 4/50 [04:23<49:42, 64.85s/it]The following generation flags are not valid and may be ignored: ['top_p', 'top_k']. Set `TRANSFORMERS_VERBOSITY=info` for more details.\n"
     ]
    },
    {
     "name": "stdout",
     "output_type": "stream",
     "text": [
      "🔍 Processing image 1a4643b7-4b9e-4839-8ce6-b904bf8f1f01...\n"
     ]
    },
    {
     "name": "stderr",
     "output_type": "stream",
     "text": [
      "🖼️ line:  18%|█▊        | 9/50 [05:29<18:20, 26.83s/it]The following generation flags are not valid and may be ignored: ['top_p', 'top_k']. Set `TRANSFORMERS_VERBOSITY=info` for more details.\n"
     ]
    },
    {
     "name": "stdout",
     "output_type": "stream",
     "text": [
      "🔍 Processing image a155969b-5725-4460-b71c-1376fe53f5c8...\n"
     ]
    },
    {
     "name": "stderr",
     "output_type": "stream",
     "text": [
      "🖼️ line:  20%|██        | 10/50 [06:35<22:26, 33.65s/it]The following generation flags are not valid and may be ignored: ['top_p', 'top_k']. Set `TRANSFORMERS_VERBOSITY=info` for more details.\n"
     ]
    },
    {
     "name": "stdout",
     "output_type": "stream",
     "text": [
      "🔍 Processing image 8433fe6c-d4b3-4e2e-8f84-7baff4086504...\n"
     ]
    },
    {
     "name": "stderr",
     "output_type": "stream",
     "text": [
      "🖼️ line:  22%|██▏       | 11/50 [07:46<26:41, 41.07s/it]The following generation flags are not valid and may be ignored: ['top_p', 'top_k']. Set `TRANSFORMERS_VERBOSITY=info` for more details.\n"
     ]
    },
    {
     "name": "stdout",
     "output_type": "stream",
     "text": [
      "🔍 Processing image 0ab6874d-32ff-4060-a4a8-152b2c18d56f...\n"
     ]
    },
    {
     "name": "stderr",
     "output_type": "stream",
     "text": [
      "🖼️ line:  24%|██▍       | 12/50 [09:21<33:35, 53.04s/it]The following generation flags are not valid and may be ignored: ['top_p', 'top_k']. Set `TRANSFORMERS_VERBOSITY=info` for more details.\n"
     ]
    },
    {
     "name": "stdout",
     "output_type": "stream",
     "text": [
      "🔍 Processing image 47ae2615-b472-4376-b49d-8ead62bd2f03...\n"
     ]
    },
    {
     "name": "stderr",
     "output_type": "stream",
     "text": [
      "🖼️ line:  26%|██▌       | 13/50 [10:47<37:29, 60.80s/it]The following generation flags are not valid and may be ignored: ['top_p', 'top_k']. Set `TRANSFORMERS_VERBOSITY=info` for more details.\n"
     ]
    },
    {
     "name": "stdout",
     "output_type": "stream",
     "text": [
      "🔍 Processing image 62a79057-35d1-4adb-83c8-fddd0c83195c...\n"
     ]
    },
    {
     "name": "stderr",
     "output_type": "stream",
     "text": [
      "🖼️ line:  36%|███▌      | 18/50 [12:13<17:43, 33.24s/it]The following generation flags are not valid and may be ignored: ['top_p', 'top_k']. Set `TRANSFORMERS_VERBOSITY=info` for more details.\n"
     ]
    },
    {
     "name": "stdout",
     "output_type": "stream",
     "text": [
      "🔍 Processing image 3894973b-6b46-4862-8fb3-861065402af5...\n"
     ]
    },
    {
     "name": "stderr",
     "output_type": "stream",
     "text": [
      "🖼️ line:  42%|████▏     | 21/50 [13:38<15:16, 31.60s/it]The following generation flags are not valid and may be ignored: ['top_p', 'top_k']. Set `TRANSFORMERS_VERBOSITY=info` for more details.\n"
     ]
    },
    {
     "name": "stdout",
     "output_type": "stream",
     "text": [
      "🔍 Processing image 26e229f1-7146-42c7-bdf8-6e5a3ebf0696...\n"
     ]
    },
    {
     "name": "stderr",
     "output_type": "stream",
     "text": [
      "🖼️ line:  48%|████▊     | 24/50 [15:14<13:42, 31.64s/it]The following generation flags are not valid and may be ignored: ['top_p', 'top_k']. Set `TRANSFORMERS_VERBOSITY=info` for more details.\n"
     ]
    },
    {
     "name": "stdout",
     "output_type": "stream",
     "text": [
      "🔍 Processing image aa99daea-ff21-4c66-87e1-30099bd2b4cd...\n"
     ]
    },
    {
     "name": "stderr",
     "output_type": "stream",
     "text": [
      "🖼️ line:  50%|█████     | 25/50 [16:44<16:31, 39.68s/it]The following generation flags are not valid and may be ignored: ['top_p', 'top_k']. Set `TRANSFORMERS_VERBOSITY=info` for more details.\n"
     ]
    },
    {
     "name": "stdout",
     "output_type": "stream",
     "text": [
      "🔍 Processing image 9d813866-f5ea-4dff-9107-13698c61f4f1...\n"
     ]
    },
    {
     "name": "stderr",
     "output_type": "stream",
     "text": [
      "🖼️ line:  60%|██████    | 30/50 [18:11<09:33, 28.68s/it]The following generation flags are not valid and may be ignored: ['top_p', 'top_k']. Set `TRANSFORMERS_VERBOSITY=info` for more details.\n"
     ]
    },
    {
     "name": "stdout",
     "output_type": "stream",
     "text": [
      "🔍 Processing image 5978f57e-bf22-4bef-a163-33bfea724340...\n"
     ]
    },
    {
     "name": "stderr",
     "output_type": "stream",
     "text": [
      "🖼️ line:  62%|██████▏   | 31/50 [20:44<13:57, 44.10s/it]The following generation flags are not valid and may be ignored: ['top_p', 'top_k']. Set `TRANSFORMERS_VERBOSITY=info` for more details.\n"
     ]
    },
    {
     "name": "stdout",
     "output_type": "stream",
     "text": [
      "🔍 Processing image 2f0f2537-7617-4a22-95fa-9b80c5f5c531...\n"
     ]
    },
    {
     "name": "stderr",
     "output_type": "stream",
     "text": [
      "🖼️ line:  70%|███████   | 35/50 [23:00<09:57, 39.86s/it]The following generation flags are not valid and may be ignored: ['top_p', 'top_k']. Set `TRANSFORMERS_VERBOSITY=info` for more details.\n"
     ]
    },
    {
     "name": "stdout",
     "output_type": "stream",
     "text": [
      "🔍 Processing image 5bfbca18-19e2-4f98-86a8-a8facb7fa03b...\n"
     ]
    },
    {
     "name": "stderr",
     "output_type": "stream",
     "text": [
      "🖼️ line:  76%|███████▌  | 38/50 [25:12<08:14, 41.21s/it]The following generation flags are not valid and may be ignored: ['top_p', 'top_k']. Set `TRANSFORMERS_VERBOSITY=info` for more details.\n"
     ]
    },
    {
     "name": "stdout",
     "output_type": "stream",
     "text": [
      "🔍 Processing image eee94515-a207-48b4-9760-e265bbe240fd...\n"
     ]
    },
    {
     "name": "stderr",
     "output_type": "stream",
     "text": [
      "🖼️ line:  84%|████████▍ | 42/50 [27:50<05:24, 40.58s/it]The following generation flags are not valid and may be ignored: ['top_p', 'top_k']. Set `TRANSFORMERS_VERBOSITY=info` for more details.\n"
     ]
    },
    {
     "name": "stdout",
     "output_type": "stream",
     "text": [
      "🔍 Processing image 5d153492-de31-41a1-97d4-1dd8686ca562...\n"
     ]
    },
    {
     "name": "stderr",
     "output_type": "stream",
     "text": [
      "🖼️ line:  90%|█████████ | 45/50 [30:16<03:34, 42.86s/it]The following generation flags are not valid and may be ignored: ['top_p', 'top_k']. Set `TRANSFORMERS_VERBOSITY=info` for more details.\n"
     ]
    },
    {
     "name": "stdout",
     "output_type": "stream",
     "text": [
      "🔍 Processing image e8323faa-7d04-4239-b853-aea77fc6cb5d...\n"
     ]
    },
    {
     "name": "stderr",
     "output_type": "stream",
     "text": [
      "🖼️ line:  94%|█████████▍| 47/50 [32:48<02:29, 49.91s/it]The following generation flags are not valid and may be ignored: ['top_p', 'top_k']. Set `TRANSFORMERS_VERBOSITY=info` for more details.\n"
     ]
    },
    {
     "name": "stdout",
     "output_type": "stream",
     "text": [
      "🔍 Processing image 26761cad-57b4-4759-92c5-d6bad407725e...\n"
     ]
    },
    {
     "name": "stderr",
     "output_type": "stream",
     "text": [
      "🖼️ line:  98%|█████████▊| 49/50 [35:22<00:56, 56.22s/it]The following generation flags are not valid and may be ignored: ['top_p', 'top_k']. Set `TRANSFORMERS_VERBOSITY=info` for more details.\n"
     ]
    },
    {
     "name": "stdout",
     "output_type": "stream",
     "text": [
      "🔍 Processing image 57583e33-e9b4-4971-bb51-5a6177dc1f30...\n"
     ]
    },
    {
     "name": "stderr",
     "output_type": "stream",
     "text": [
      "🖼️ line: 100%|██████████| 50/50 [38:03<00:00, 45.67s/it]\n"
     ]
    },
    {
     "name": "stdout",
     "output_type": "stream",
     "text": [
      "✅ Saved line results to gemma3_12b_results_line.csv\n",
      "📁 Processing scatter charts...\n"
     ]
    },
    {
     "name": "stderr",
     "output_type": "stream",
     "text": [
      "🖼️ scatter:   0%|          | 0/50 [00:00<?, ?it/s]"
     ]
    },
    {
     "name": "stdout",
     "output_type": "stream",
     "text": [
      "🔍 Processing image 6f5a28bd-6368-45de-a197-c4da654185c4...\n"
     ]
    },
    {
     "name": "stderr",
     "output_type": "stream",
     "text": [
      "The following generation flags are not valid and may be ignored: ['top_p', 'top_k']. Set `TRANSFORMERS_VERBOSITY=info` for more details.\n",
      "🖼️ scatter:   6%|▌         | 3/50 [02:20<36:34, 46.70s/it]The following generation flags are not valid and may be ignored: ['top_p', 'top_k']. Set `TRANSFORMERS_VERBOSITY=info` for more details.\n"
     ]
    },
    {
     "name": "stdout",
     "output_type": "stream",
     "text": [
      "🔍 Processing image faeaf246-1551-404a-8dbc-370aade99e1a...\n"
     ]
    },
    {
     "name": "stderr",
     "output_type": "stream",
     "text": [
      "🖼️ scatter:   8%|▊         | 4/50 [04:33<57:13, 74.64s/it]The following generation flags are not valid and may be ignored: ['top_p', 'top_k']. Set `TRANSFORMERS_VERBOSITY=info` for more details.\n"
     ]
    },
    {
     "name": "stdout",
     "output_type": "stream",
     "text": [
      "🔍 Processing image 9ac40a7b-84bd-42a2-851d-1bfc1b256ce2...\n"
     ]
    },
    {
     "name": "stderr",
     "output_type": "stream",
     "text": [
      "🖼️ scatter:  16%|█▌        | 8/50 [07:15<36:48, 52.58s/it]The following generation flags are not valid and may be ignored: ['top_p', 'top_k']. Set `TRANSFORMERS_VERBOSITY=info` for more details.\n"
     ]
    },
    {
     "name": "stdout",
     "output_type": "stream",
     "text": [
      "🔍 Processing image 062e16ea-d9ea-4b57-9ec6-80137a5fc78e...\n"
     ]
    },
    {
     "name": "stderr",
     "output_type": "stream",
     "text": [
      "🖼️ scatter:  22%|██▏       | 11/50 [09:47<33:36, 51.70s/it]The following generation flags are not valid and may be ignored: ['top_p', 'top_k']. Set `TRANSFORMERS_VERBOSITY=info` for more details.\n"
     ]
    },
    {
     "name": "stdout",
     "output_type": "stream",
     "text": [
      "🔍 Processing image 0b656397-1b14-4a86-961d-b69464d0a5ca...\n"
     ]
    },
    {
     "name": "stderr",
     "output_type": "stream",
     "text": [
      "🖼️ scatter:  26%|██▌       | 13/50 [12:03<34:43, 56.31s/it]The following generation flags are not valid and may be ignored: ['top_p', 'top_k']. Set `TRANSFORMERS_VERBOSITY=info` for more details.\n"
     ]
    },
    {
     "name": "stdout",
     "output_type": "stream",
     "text": [
      "🔍 Processing image 89c26174-fb33-4030-98ac-14a463777930...\n"
     ]
    },
    {
     "name": "stderr",
     "output_type": "stream",
     "text": [
      "🖼️ scatter:  28%|██▊       | 14/50 [14:31<42:56, 71.56s/it]The following generation flags are not valid and may be ignored: ['top_p', 'top_k']. Set `TRANSFORMERS_VERBOSITY=info` for more details.\n"
     ]
    },
    {
     "name": "stdout",
     "output_type": "stream",
     "text": [
      "🔍 Processing image 06fc2b0e-5923-405b-be4b-11bece5e1f1d...\n"
     ]
    },
    {
     "name": "stderr",
     "output_type": "stream",
     "text": [
      "🖼️ scatter:  32%|███▏      | 16/50 [16:35<38:48, 68.48s/it]The following generation flags are not valid and may be ignored: ['top_p', 'top_k']. Set `TRANSFORMERS_VERBOSITY=info` for more details.\n"
     ]
    },
    {
     "name": "stdout",
     "output_type": "stream",
     "text": [
      "🔍 Processing image 8e26dc90-137f-472f-bfcb-b9b40eb005ab...\n"
     ]
    },
    {
     "name": "stderr",
     "output_type": "stream",
     "text": [
      "🖼️ scatter:  34%|███▍      | 17/50 [19:01<45:42, 83.09s/it]The following generation flags are not valid and may be ignored: ['top_p', 'top_k']. Set `TRANSFORMERS_VERBOSITY=info` for more details.\n"
     ]
    },
    {
     "name": "stdout",
     "output_type": "stream",
     "text": [
      "🔍 Processing image e17b56fe-c739-4af5-bb50-c4fad0a9d7f5...\n"
     ]
    },
    {
     "name": "stderr",
     "output_type": "stream",
     "text": [
      "🖼️ scatter:  38%|███▊      | 19/50 [21:37<41:59, 81.26s/it]The following generation flags are not valid and may be ignored: ['top_p', 'top_k']. Set `TRANSFORMERS_VERBOSITY=info` for more details.\n"
     ]
    },
    {
     "name": "stdout",
     "output_type": "stream",
     "text": [
      "🔍 Processing image 3b68516a-0083-46f9-8b2e-8e0a85f4cf31...\n"
     ]
    },
    {
     "name": "stderr",
     "output_type": "stream",
     "text": [
      "🖼️ scatter:  40%|████      | 20/50 [23:40<44:47, 89.58s/it]The following generation flags are not valid and may be ignored: ['top_p', 'top_k']. Set `TRANSFORMERS_VERBOSITY=info` for more details.\n"
     ]
    },
    {
     "name": "stdout",
     "output_type": "stream",
     "text": [
      "🔍 Processing image b43ce73b-56a4-44db-a8aa-dc33824bc8f1...\n"
     ]
    },
    {
     "name": "stderr",
     "output_type": "stream",
     "text": [
      "🖼️ scatter:  42%|████▏     | 21/50 [27:03<55:32, 114.91s/it]"
     ]
    },
    {
     "name": "stdout",
     "output_type": "stream",
     "text": [
      "🔍 Processing image 873d974a-a5b1-43b0-9d7e-25d18c19e876...\n"
     ]
    },
    {
     "name": "stderr",
     "output_type": "stream",
     "text": [
      "The following generation flags are not valid and may be ignored: ['top_p', 'top_k']. Set `TRANSFORMERS_VERBOSITY=info` for more details.\n",
      "🖼️ scatter:  44%|████▍     | 22/50 [29:58<1:00:18, 129.23s/it]The following generation flags are not valid and may be ignored: ['top_p', 'top_k']. Set `TRANSFORMERS_VERBOSITY=info` for more details.\n"
     ]
    },
    {
     "name": "stdout",
     "output_type": "stream",
     "text": [
      "🔍 Processing image 63e1ffb6-1958-43a3-b543-957809e5ad3c...\n"
     ]
    },
    {
     "name": "stderr",
     "output_type": "stream",
     "text": [
      "🖼️ scatter:  50%|█████     | 25/50 [33:26<41:11, 98.87s/it]   "
     ]
    },
    {
     "name": "stdout",
     "output_type": "stream",
     "text": [
      "🔍 Processing image dfcff6a7-a72d-4bdf-9936-a452b3d694fe...\n"
     ]
    },
    {
     "name": "stderr",
     "output_type": "stream",
     "text": [
      "The following generation flags are not valid and may be ignored: ['top_p', 'top_k']. Set `TRANSFORMERS_VERBOSITY=info` for more details.\n",
      "🖼️ scatter:  54%|█████▍    | 27/50 [35:34<33:33, 87.55s/it]The following generation flags are not valid and may be ignored: ['top_p', 'top_k']. Set `TRANSFORMERS_VERBOSITY=info` for more details.\n"
     ]
    },
    {
     "name": "stdout",
     "output_type": "stream",
     "text": [
      "🔍 Processing image c1e29cae-8aab-492c-89be-bf0ec7d1a5f4...\n"
     ]
    },
    {
     "name": "stderr",
     "output_type": "stream",
     "text": [
      "🖼️ scatter:  56%|█████▌    | 28/50 [37:29<33:59, 92.72s/it]The following generation flags are not valid and may be ignored: ['top_p', 'top_k']. Set `TRANSFORMERS_VERBOSITY=info` for more details.\n"
     ]
    },
    {
     "name": "stdout",
     "output_type": "stream",
     "text": [
      "🔍 Processing image 0f805cc4-4e0c-47e8-839c-94df2e090309...\n"
     ]
    },
    {
     "name": "stderr",
     "output_type": "stream",
     "text": [
      "🖼️ scatter:  68%|██████▊   | 34/50 [40:00<13:34, 50.90s/it]The following generation flags are not valid and may be ignored: ['top_p', 'top_k']. Set `TRANSFORMERS_VERBOSITY=info` for more details.\n"
     ]
    },
    {
     "name": "stdout",
     "output_type": "stream",
     "text": [
      "🔍 Processing image 3e162208-21e8-4601-809e-dd0a68e260af...\n"
     ]
    },
    {
     "name": "stderr",
     "output_type": "stream",
     "text": [
      "🖼️ scatter:  70%|███████   | 35/50 [43:08<17:07, 68.49s/it]The following generation flags are not valid and may be ignored: ['top_p', 'top_k']. Set `TRANSFORMERS_VERBOSITY=info` for more details.\n"
     ]
    },
    {
     "name": "stdout",
     "output_type": "stream",
     "text": [
      "🔍 Processing image 47e01065-ae98-4e53-a379-3c85c9087759...\n"
     ]
    },
    {
     "name": "stderr",
     "output_type": "stream",
     "text": [
      "🖼️ scatter:  72%|███████▏  | 36/50 [46:15<20:16, 86.92s/it]The following generation flags are not valid and may be ignored: ['top_p', 'top_k']. Set `TRANSFORMERS_VERBOSITY=info` for more details.\n"
     ]
    },
    {
     "name": "stdout",
     "output_type": "stream",
     "text": [
      "🔍 Processing image dc775ef1-344c-4680-ae62-99d985365e2d...\n"
     ]
    },
    {
     "name": "stderr",
     "output_type": "stream",
     "text": [
      "🖼️ scatter:  74%|███████▍  | 37/50 [49:22<22:45, 105.05s/it]The following generation flags are not valid and may be ignored: ['top_p', 'top_k']. Set `TRANSFORMERS_VERBOSITY=info` for more details.\n"
     ]
    },
    {
     "name": "stdout",
     "output_type": "stream",
     "text": [
      "🔍 Processing image 88d6cf96-b231-4362-8dac-7adabcb12496...\n"
     ]
    },
    {
     "name": "stderr",
     "output_type": "stream",
     "text": [
      "🖼️ scatter:  76%|███████▌  | 38/50 [51:24<21:41, 108.43s/it]The following generation flags are not valid and may be ignored: ['top_p', 'top_k']. Set `TRANSFORMERS_VERBOSITY=info` for more details.\n"
     ]
    },
    {
     "name": "stdout",
     "output_type": "stream",
     "text": [
      "🔍 Processing image 7dc5b844-528e-49d3-81b2-ec2e6b82617c...\n"
     ]
    },
    {
     "name": "stderr",
     "output_type": "stream",
     "text": [
      "🖼️ scatter:  78%|███████▊  | 39/50 [52:55<19:09, 104.52s/it]The following generation flags are not valid and may be ignored: ['top_p', 'top_k']. Set `TRANSFORMERS_VERBOSITY=info` for more details.\n"
     ]
    },
    {
     "name": "stdout",
     "output_type": "stream",
     "text": [
      "🔍 Processing image dc77160e-04e3-4039-b234-35d35d71f898...\n"
     ]
    },
    {
     "name": "stderr",
     "output_type": "stream",
     "text": [
      "🖼️ scatter:  84%|████████▍ | 42/50 [55:41<10:42, 80.33s/it] The following generation flags are not valid and may be ignored: ['top_p', 'top_k']. Set `TRANSFORMERS_VERBOSITY=info` for more details.\n"
     ]
    },
    {
     "name": "stdout",
     "output_type": "stream",
     "text": [
      "🔍 Processing image 22caec9a-a323-46a2-bd66-84e41115eac8...\n"
     ]
    },
    {
     "name": "stderr",
     "output_type": "stream",
     "text": [
      "🖼️ scatter:  86%|████████▌ | 43/50 [57:45<10:20, 88.59s/it]The following generation flags are not valid and may be ignored: ['top_p', 'top_k']. Set `TRANSFORMERS_VERBOSITY=info` for more details.\n"
     ]
    },
    {
     "name": "stdout",
     "output_type": "stream",
     "text": [
      "🔍 Processing image 5dd3bf98-64c0-4209-894a-ad5dfa9b3674...\n"
     ]
    },
    {
     "name": "stderr",
     "output_type": "stream",
     "text": [
      "🖼️ scatter:  88%|████████▊ | 44/50 [1:00:24<10:21, 103.53s/it]The following generation flags are not valid and may be ignored: ['top_p', 'top_k']. Set `TRANSFORMERS_VERBOSITY=info` for more details.\n"
     ]
    },
    {
     "name": "stdout",
     "output_type": "stream",
     "text": [
      "🔍 Processing image de4ed635-5bdb-47cf-8fe7-6ad0415fc6d0...\n"
     ]
    },
    {
     "name": "stderr",
     "output_type": "stream",
     "text": [
      "🖼️ scatter:  90%|█████████ | 45/50 [1:01:47<08:14, 98.83s/it] The following generation flags are not valid and may be ignored: ['top_p', 'top_k']. Set `TRANSFORMERS_VERBOSITY=info` for more details.\n"
     ]
    },
    {
     "name": "stdout",
     "output_type": "stream",
     "text": [
      "🔍 Processing image 6065e29b-5af0-40d5-aa41-5a2fea8a0199...\n"
     ]
    },
    {
     "name": "stderr",
     "output_type": "stream",
     "text": [
      "🖼️ scatter:  96%|█████████▌| 48/50 [1:03:40<02:16, 68.16s/it]The following generation flags are not valid and may be ignored: ['top_p', 'top_k']. Set `TRANSFORMERS_VERBOSITY=info` for more details.\n"
     ]
    },
    {
     "name": "stdout",
     "output_type": "stream",
     "text": [
      "🔍 Processing image 4cda0eb3-fb28-4444-b9a0-cc71f53efb1d...\n"
     ]
    },
    {
     "name": "stderr",
     "output_type": "stream",
     "text": [
      "🖼️ scatter: 100%|██████████| 50/50 [1:05:53<00:00, 79.06s/it]"
     ]
    },
    {
     "name": "stdout",
     "output_type": "stream",
     "text": [
      "✅ Saved scatter results to gemma3_12b_results_scatter.csv\n"
     ]
    },
    {
     "name": "stderr",
     "output_type": "stream",
     "text": [
      "\n"
     ]
    }
   ],
   "source": [
    "# === MAIN LOOP FOR EACH TYPE ===\n",
    "for chart_type, cfg in DATASETS.items():\n",
    "    print(f\"📁 Processing {chart_type} charts...\")\n",
    "    results = []\n",
    "\n",
    "    with open(cfg[\"jsonl\"], \"r\", encoding=\"utf-8\") as f:\n",
    "        lines = f.readlines()\n",
    "\n",
    "    for line in tqdm(lines, desc=f\"🖼️ {chart_type}\"):\n",
    "        if random.random() > 0.5:\n",
    "            continue\n",
    "        entry = json.loads(line)\n",
    "        print(f\"🔍 Processing image {entry['id']}...\")\n",
    "        image_id = entry[\"id\"]\n",
    "        image_path = os.path.join(cfg[\"img_dir\"], os.path.basename(entry[\"image\"]).replace(\"\\\\\", \"/\"))\n",
    "        points = random.sample(entry[\"points\"], min(1, len(entry[\"points\"])))\n",
    "\n",
    "        try:\n",
    "            image = Image.open(image_path).convert(\"RGB\")\n",
    "        except Exception as e:\n",
    "            print(f\"❌ Cannot open image {image_id}: {e}\")\n",
    "            continue\n",
    "\n",
    "        for point in points:\n",
    "            x_val = point[\"x\"]\n",
    "            y_true = point[\"y\"]\n",
    "            start_time = time.perf_counter()\n",
    "            y_pred_raw = query_model(image, x_val)\n",
    "            elapsed_time = time.perf_counter() - start_time\n",
    "\n",
    "            # Try to parse float\n",
    "            try:\n",
    "                y_pred = float(y_pred_raw.split()[0].replace(\",\", \".\"))\n",
    "            except Exception:\n",
    "                y_pred = None\n",
    "\n",
    "            abs_error = abs(y_pred - y_true) if y_pred is not None else None\n",
    "            results.append({\n",
    "                \"chart_type\": chart_type,\n",
    "                \"image_id\": image_id,\n",
    "                \"x\": x_val,\n",
    "                \"y_true\": y_true,\n",
    "                \"y_pred\": y_pred,\n",
    "                \"abs_error\": abs_error,\n",
    "                \"raw_output\": y_pred_raw,\n",
    "                \"inference_time\": elapsed_time\n",
    "            })\n",
    "\n",
    "    df = pd.DataFrame(results)\n",
    "    df.to_csv(cfg[\"output_csv\"], index=False)\n",
    "    print(f\"✅ Saved {chart_type} results to {cfg['output_csv']}\")"
   ]
  }
 ],
 "metadata": {
  "kernelspec": {
   "display_name": "extraction_graphs",
   "language": "python",
   "name": "python3"
  },
  "language_info": {
   "codemirror_mode": {
    "name": "ipython",
    "version": 3
   },
   "file_extension": ".py",
   "mimetype": "text/x-python",
   "name": "python",
   "nbconvert_exporter": "python",
   "pygments_lexer": "ipython3",
   "version": "3.13.5"
  }
 },
 "nbformat": 4,
 "nbformat_minor": 5
}
