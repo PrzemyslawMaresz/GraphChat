{
 "cells": [
  {
   "cell_type": "code",
   "execution_count": 36,
   "id": "8024ce8f",
   "metadata": {},
   "outputs": [],
   "source": [
    "import pandas as pd"
   ]
  },
  {
   "cell_type": "code",
   "execution_count": 37,
   "id": "a9cd3bd2",
   "metadata": {},
   "outputs": [],
   "source": [
    "df_1 = pd.read_csv('gemini_1_5_results_bar.csv')\n",
    "df_2 = pd.read_csv('gemini_1_5_results_line.csv')\n",
    "df_3 = pd.read_csv('gemini_1_5_results_scatter.csv')"
   ]
  },
  {
   "cell_type": "code",
   "execution_count": 38,
   "id": "8b025971",
   "metadata": {},
   "outputs": [],
   "source": [
    "df = pd.concat([df_1, df_2, df_3], ignore_index=True)"
   ]
  },
  {
   "cell_type": "code",
   "execution_count": 39,
   "id": "ffcbbcde",
   "metadata": {},
   "outputs": [],
   "source": [
    "df[\"rel_error\"] = df[\"abs_error\"] / df[\"y_true\"].abs()"
   ]
  },
  {
   "cell_type": "code",
   "execution_count": 40,
   "id": "3d141903",
   "metadata": {},
   "outputs": [],
   "source": [
    "summary = df.groupby(\"chart_type\").agg(\n",
    "    abs_error_avg=(\"abs_error\", \"mean\"),\n",
    "    abs_error_median=(\"abs_error\", \"median\"),\n",
    "    rel_error_avg=(\"rel_error\", \"mean\"),\n",
    "    accuracy_within_5=(\"abs_error\", lambda x: (x <= 5).mean()),\n",
    "    latency_avg=(\"inference_time\", \"mean\"),\n",
    ").reset_index()\n",
    "\n",
    "global_summary = pd.DataFrame({\n",
    "    \"chart_type\": [\"ALL\"],\n",
    "    \"abs_error_avg\": [df[\"abs_error\"].mean()],\n",
    "    \"abs_error_median\": [df[\"abs_error\"].median()],\n",
    "    \"rel_error_avg\": [df[\"rel_error\"].mean()],\n",
    "    \"accuracy_within_5\": [(df[\"abs_error\"] <= 5).mean()],\n",
    "    \"latency_avg\": [df[\"inference_time\"].mean()],\n",
    "})"
   ]
  },
  {
   "cell_type": "code",
   "execution_count": 41,
   "id": "a000659e",
   "metadata": {},
   "outputs": [],
   "source": [
    "summary_df = pd.concat([summary, global_summary], ignore_index=True)\n",
    "\n",
    "summary_df = summary_df.round(3)"
   ]
  },
  {
   "cell_type": "code",
   "execution_count": 42,
   "id": "070e85dd",
   "metadata": {},
   "outputs": [
    {
     "data": {
      "text/html": [
       "<div>\n",
       "<style scoped>\n",
       "    .dataframe tbody tr th:only-of-type {\n",
       "        vertical-align: middle;\n",
       "    }\n",
       "\n",
       "    .dataframe tbody tr th {\n",
       "        vertical-align: top;\n",
       "    }\n",
       "\n",
       "    .dataframe thead th {\n",
       "        text-align: right;\n",
       "    }\n",
       "</style>\n",
       "<table border=\"1\" class=\"dataframe\">\n",
       "  <thead>\n",
       "    <tr style=\"text-align: right;\">\n",
       "      <th></th>\n",
       "      <th>chart_type</th>\n",
       "      <th>abs_error_avg</th>\n",
       "      <th>abs_error_median</th>\n",
       "      <th>rel_error_avg</th>\n",
       "      <th>accuracy_within_5</th>\n",
       "      <th>latency_avg</th>\n",
       "    </tr>\n",
       "  </thead>\n",
       "  <tbody>\n",
       "    <tr>\n",
       "      <th>0</th>\n",
       "      <td>bar</td>\n",
       "      <td>5.034</td>\n",
       "      <td>1.13</td>\n",
       "      <td>0.093</td>\n",
       "      <td>0.727</td>\n",
       "      <td>1.287</td>\n",
       "    </tr>\n",
       "    <tr>\n",
       "      <th>1</th>\n",
       "      <td>line</td>\n",
       "      <td>13.626</td>\n",
       "      <td>3.19</td>\n",
       "      <td>0.139</td>\n",
       "      <td>0.600</td>\n",
       "      <td>1.293</td>\n",
       "    </tr>\n",
       "    <tr>\n",
       "      <th>2</th>\n",
       "      <td>scatter</td>\n",
       "      <td>1.342</td>\n",
       "      <td>0.45</td>\n",
       "      <td>0.022</td>\n",
       "      <td>0.923</td>\n",
       "      <td>1.988</td>\n",
       "    </tr>\n",
       "    <tr>\n",
       "      <th>3</th>\n",
       "      <td>ALL</td>\n",
       "      <td>6.950</td>\n",
       "      <td>0.99</td>\n",
       "      <td>0.082</td>\n",
       "      <td>0.758</td>\n",
       "      <td>1.584</td>\n",
       "    </tr>\n",
       "  </tbody>\n",
       "</table>\n",
       "</div>"
      ],
      "text/plain": [
       "  chart_type  abs_error_avg  abs_error_median  rel_error_avg  \\\n",
       "0        bar          5.034              1.13          0.093   \n",
       "1       line         13.626              3.19          0.139   \n",
       "2    scatter          1.342              0.45          0.022   \n",
       "3        ALL          6.950              0.99          0.082   \n",
       "\n",
       "   accuracy_within_5  latency_avg  \n",
       "0              0.727        1.287  \n",
       "1              0.600        1.293  \n",
       "2              0.923        1.988  \n",
       "3              0.758        1.584  "
      ]
     },
     "execution_count": 42,
     "metadata": {},
     "output_type": "execute_result"
    }
   ],
   "source": [
    "summary_df"
   ]
  }
 ],
 "metadata": {
  "kernelspec": {
   "display_name": "extraction_graphs",
   "language": "python",
   "name": "python3"
  },
  "language_info": {
   "codemirror_mode": {
    "name": "ipython",
    "version": 3
   },
   "file_extension": ".py",
   "mimetype": "text/x-python",
   "name": "python",
   "nbconvert_exporter": "python",
   "pygments_lexer": "ipython3",
   "version": "3.13.5"
  }
 },
 "nbformat": 4,
 "nbformat_minor": 5
}
